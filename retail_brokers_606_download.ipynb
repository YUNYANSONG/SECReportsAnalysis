{
 "cells": [
  {
   "cell_type": "code",
   "execution_count": 2,
   "metadata": {},
   "outputs": [],
   "source": [
    "import os\n",
    "import requests\n",
    "from bs4 import BeautifulSoup\n",
    "from selenium import webdriver\n",
    "from selenium.webdriver.common.by import By\n",
    "from selenium.webdriver.common.keys import Keys\n",
    "from selenium.webdriver.support.ui import WebDriverWait\n",
    "from selenium.webdriver.support import expected_conditions as EC\n",
    "import time"
   ]
  },
  {
   "cell_type": "code",
   "execution_count": 4,
   "metadata": {},
   "outputs": [],
   "source": [
    "if not os.path.exists(os.path.join(\".\",\"downloaded_reports\")):\n",
    "    os.makedirs(os.path.join(\".\",\"downloaded_reports\"))\n",
    "    print(\"Creating directory to save files\")"
   ]
  },
  {
   "cell_type": "code",
   "execution_count": null,
   "metadata": {},
   "outputs": [],
   "source": [
    "#For Fidelity\n",
    "# Initialize the Chrome WebDriver\n",
    "driver = webdriver.Chrome()\n",
    "url = 'https://clearingcustody.fidelity.com/trade-execution-quality/sec-rule-606'\n",
    "driver.get(url)\n",
    "time.sleep(5)\n",
    "report_links = driver.find_elements(By.PARTIAL_LINK_TEXT,\"FBS Quarterly Report (XML)\")\n",
    "# Get the report URL\n",
    "save_directory = \"downloaded_reports\"\n",
    "report_path = os.path.join('.',save_directory, 'Fidelity')\n",
    "report_urls = {}\n",
    "for report_link in report_links:\n",
    "    report_url = report_link.get_attribute(\"href\")\n",
    "    name = report_link.text\n",
    "    report_urls[name] = report_url\n",
    "if not os.path.exists(report_path):\n",
    "    os.mkdir(report_path)\n",
    "for name,report_url in report_urls.items():\n",
    "    this_path = os.path.join(report_path,name)\n",
    "    driver.get(report_url)\n",
    "    final_url = driver.current_url\n",
    "    response = requests.get(final_url)\n",
    "    with open(this_path, \"wb\") as f:\n",
    "        f.write(response.content)\n",
    "    print(f\"Downloaded: {final_url} to {report_path}\")\n"
   ]
  },
  {
   "cell_type": "code",
   "execution_count": null,
   "metadata": {},
   "outputs": [],
   "source": [
    "#For TD Ameritrade\n",
    "# Initialize the Chrome WebDriver\n",
    "driver = webdriver.Chrome()\n",
    "url = 'https://www.tdameritrade.com/disclosure/historical-606-disclosure.html'\n",
    "driver.get(url)\n",
    "time.sleep(5)\n",
    "report_links = driver.find_elements(By.PARTIAL_LINK_TEXT,\"Disclosure XML\")\n",
    "# Get the report URL\n",
    "save_directory = \"downloaded_reports\"\n",
    "report_path = os.path.join('.',save_directory, 'Ameritrade')\n",
    "report_urls = {}\n",
    "for report_link in report_links:\n",
    "    report_url = report_link.get_attribute(\"href\")\n",
    "    name = report_link.text\n",
    "    report_urls[name] = report_url\n",
    "if not os.path.exists(report_path):\n",
    "    os.mkdir(report_path)\n",
    "for name,report_url in report_urls.items():\n",
    "    this_path = os.path.join(report_path,name)\n",
    "    driver.get(report_url)\n",
    "    final_url = driver.current_url\n",
    "    response = requests.get(final_url)\n",
    "    with open(this_path, \"wb\") as f:\n",
    "        f.write(response.content)\n",
    "    print(f\"Downloaded: {final_url} to {report_path}\")"
   ]
  },
  {
   "cell_type": "code",
   "execution_count": null,
   "metadata": {},
   "outputs": [],
   "source": [
    "#For Chas\n",
    "retail_broker= \"Chas\"\n",
    "# Initialize the Chrome WebDriver\n",
    "driver = webdriver.Chrome()\n",
    "url = \"https://public.s3.com/rule606/chas/\"\n",
    "driver.get(url)\n",
    "time.sleep(5)\n",
    "report_links = driver.find_elements(By.PARTIAL_LINK_TEXT,\".xml\")\n",
    "# Get the report URL\n",
    "save_directory = \"downloaded_reports\"\n",
    "report_path = os.path.join('.',save_directory, retail_broker)\n",
    "report_urls = {}\n",
    "for report_link in report_links:\n",
    "    report_url = report_link.get_attribute(\"href\")\n",
    "    name = report_link.text\n",
    "    report_urls[name] = report_url\n",
    "if not os.path.exists(report_path):\n",
    "    os.mkdir(report_path)\n",
    "for name,report_url in report_urls.items():\n",
    "    this_path = os.path.join(report_path,name)\n",
    "    driver.get(report_url)\n",
    "    final_url = driver.current_url\n",
    "    response = requests.get(final_url)\n",
    "    with open(this_path, \"wb\") as f:\n",
    "        f.write(response.content)\n",
    "    print(f\"Downloaded: {final_url} to {report_path}\")"
   ]
  },
  {
   "cell_type": "code",
   "execution_count": null,
   "metadata": {},
   "outputs": [],
   "source": [
    "#For Etrade\n",
    "retail_broker= \"Etrade\"\n",
    "# Initialize the Chrome WebDriver\n",
    "driver = webdriver.Chrome()\n",
    "url = \"http://public.s3.com/rule606/etrs/\"\n",
    "driver.get(url)\n",
    "time.sleep(5)\n",
    "report_links = driver.find_elements(By.PARTIAL_LINK_TEXT,\".xml\")\n",
    "# Get the report URL\n",
    "save_directory = \"downloaded_reports\"\n",
    "report_path = os.path.join('.',save_directory, retail_broker)\n",
    "report_urls = {}\n",
    "for report_link in report_links:\n",
    "    report_url = report_link.get_attribute(\"href\")\n",
    "    name = report_link.text\n",
    "    name=name.replace(\"*\",\"\")\n",
    "    report_urls[name] = report_url\n",
    "if not os.path.exists(report_path):\n",
    "    os.mkdir(report_path)\n",
    "for name,report_url in report_urls.items():\n",
    "    this_path = os.path.join(report_path,name)\n",
    "    driver.get(report_url)\n",
    "    final_url = driver.current_url\n",
    "    response = requests.get(final_url)\n",
    "    with open(this_path, \"wb\") as f:\n",
    "        f.write(response.content)\n",
    "    print(f\"Downloaded: {final_url} to {report_path}\")"
   ]
  },
  {
   "cell_type": "code",
   "execution_count": null,
   "metadata": {},
   "outputs": [],
   "source": []
  }
 ],
 "metadata": {
  "kernelspec": {
   "display_name": "py38",
   "language": "python",
   "name": "python3"
  },
  "language_info": {
   "codemirror_mode": {
    "name": "ipython",
    "version": 3
   },
   "file_extension": ".py",
   "mimetype": "text/x-python",
   "name": "python",
   "nbconvert_exporter": "python",
   "pygments_lexer": "ipython3",
   "version": "3.8.17"
  },
  "orig_nbformat": 4
 },
 "nbformat": 4,
 "nbformat_minor": 2
}
