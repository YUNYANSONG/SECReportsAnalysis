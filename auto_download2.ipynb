{
 "cells": [
  {
   "cell_type": "code",
   "execution_count": 1,
   "metadata": {},
   "outputs": [],
   "source": [
    "import os\n",
    "import requests\n",
    "from bs4 import BeautifulSoup\n",
    "from selenium import webdriver\n",
    "from selenium.webdriver.common.by import By\n",
    "from selenium.webdriver.common.keys import Keys\n",
    "from selenium.webdriver.support.ui import WebDriverWait\n",
    "from selenium.webdriver.support import expected_conditions as EC\n"
   ]
  },
  {
   "cell_type": "code",
   "execution_count": 2,
   "metadata": {},
   "outputs": [],
   "source": [
    "# Initialize the Chrome WebDriver\n",
    "driver = webdriver.Chrome()"
   ]
  },
  {
   "cell_type": "code",
   "execution_count": 10,
   "metadata": {},
   "outputs": [],
   "source": [
    "url = 'https://clearingcustody.fidelity.com/trade-execution-quality/sec-rule-606'\n",
    "driver.get(url)"
   ]
  },
  {
   "cell_type": "code",
   "execution_count": 11,
   "metadata": {},
   "outputs": [],
   "source": [
    "report_links = driver.find_elements(By.PARTIAL_LINK_TEXT,\"FBS Quarterly Report (XML)\")\n",
    "# Get the report URL\n",
    "save_directory = \"downloaded_reports\"\n",
    "report_path = os.path.join('.',save_directory, 'Fidelity')"
   ]
  },
  {
   "cell_type": "code",
   "execution_count": 12,
   "metadata": {},
   "outputs": [],
   "source": [
    "report_urls = {}\n",
    "for report_link in report_links:\n",
    "    report_url = report_link.get_attribute(\"href\")\n",
    "    name = report_link.text\n",
    "    report_urls[name] = report_url"
   ]
  },
  {
   "cell_type": "code",
   "execution_count": 14,
   "metadata": {},
   "outputs": [
    {
     "name": "stdout",
     "output_type": "stream",
     "text": [
      "Downloaded: https://institutionalmedia.fidelity.com/fiam/media/xml/sec-rule-606/fbs-q2-2023.xml to .\\downloaded_reports\\Fidelity\n",
      "Downloaded: https://institutionalmedia.fidelity.com/fiam/media/xml/sec-rule-606/fbs-q1-2023.xml to .\\downloaded_reports\\Fidelity\n",
      "Downloaded: https://institutionalmedia.fidelity.com/fiam/media/xml/sec-rule-606/fbs-q4-2022.xml to .\\downloaded_reports\\Fidelity\n",
      "Downloaded: https://institutionalmedia.fidelity.com/fiam/media/xml/sec-rule-606/fbs-q3-2022.xml to .\\downloaded_reports\\Fidelity\n",
      "Downloaded: https://institutionalmedia.fidelity.com/fiam/media/xml/sec-rule-606/fbs-q2-2022.xml to .\\downloaded_reports\\Fidelity\n",
      "Downloaded: https://institutionalmedia.fidelity.com/fiam/media/xml/sec-rule-606/fbs-q1-2022.xml to .\\downloaded_reports\\Fidelity\n",
      "Downloaded: https://institutionalmedia.fidelity.com/fiam/media/xml/sec-rule-606/fbs-q4-2021.xml to .\\downloaded_reports\\Fidelity\n",
      "Downloaded: https://institutionalmedia.fidelity.com/fiam/media/xml/sec-rule-606/fbs-q3-2021.xml to .\\downloaded_reports\\Fidelity\n",
      "Downloaded: https://institutionalmedia.fidelity.com/fiam/media/xml/sec-rule-606/fbs-q2-2021.xml to .\\downloaded_reports\\Fidelity\n"
     ]
    }
   ],
   "source": [
    "for name,report_url in report_urls.items():\n",
    "    this_path = os.path.join(report_path,name)\n",
    "    driver.get(report_url)\n",
    "    final_url = driver.current_url\n",
    "    response = requests.get(final_url)\n",
    "    with open(this_path, \"wb\") as f:\n",
    "        f.write(response.content)\n",
    "    print(f\"Downloaded: {final_url} to {report_path}\")\n"
   ]
  },
  {
   "cell_type": "code",
   "execution_count": null,
   "metadata": {},
   "outputs": [],
   "source": []
  }
 ],
 "metadata": {
  "kernelspec": {
   "display_name": "py38",
   "language": "python",
   "name": "python3"
  },
  "language_info": {
   "codemirror_mode": {
    "name": "ipython",
    "version": 3
   },
   "file_extension": ".py",
   "mimetype": "text/x-python",
   "name": "python",
   "nbconvert_exporter": "python",
   "pygments_lexer": "ipython3",
   "version": "3.8.17"
  },
  "orig_nbformat": 4
 },
 "nbformat": 4,
 "nbformat_minor": 2
}
