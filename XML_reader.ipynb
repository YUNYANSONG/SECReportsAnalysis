{
 "cells": [
  {
   "cell_type": "code",
   "execution_count": null,
   "metadata": {},
   "outputs": [],
   "source": [
    "import numpy as np\n",
    "import pandas as pd\n",
    "import xml.etree.ElementTree as ET\n",
    "from glob import glob"
   ]
  },
  {
   "cell_type": "code",
   "execution_count": null,
   "metadata": {},
   "outputs": [],
   "source": []
  },
  {
   "cell_type": "code",
   "execution_count": null,
   "metadata": {},
   "outputs": [],
   "source": [
    "import xml.etree.ElementTree as ET\n",
    "# Load XML from file\n",
    "all_reports_path = glob()\n",
    "tree = ET.parse(r'./downloaded_reports/Ameritrade/View TD Ameritrade Clearing, Inc.’s SEC 606 Order Disclosure XML - Q1 2021')\n",
    "root = tree.getroot()\n",
    "\n"
   ]
  },
  {
   "cell_type": "code",
   "execution_count": null,
   "metadata": {},
   "outputs": [],
   "source": [
    "#We define the format as\n",
    "cols = [\"DataDate\",\"category\",\"venue\",\n",
    " 'orderPct',\n",
    " 'marketPct',\n",
    " 'marketableLimitPct',\n",
    " 'nonMarketableLimitPct',\n",
    " 'otherPct',\n",
    " 'netPmtPaidRecvMarketOrdersUsd',\n",
    " 'netPmtPaidRecvMarketOrdersCph',\n",
    " 'netPmtPaidRecvMarketableLimitOrdersUsd',\n",
    " 'netPmtPaidRecvMarketableLimitOrdersCph',\n",
    " 'netPmtPaidRecvNonMarketableLimitOrdersUsd',\n",
    " 'netPmtPaidRecvNonMarketableLimitOrdersCph',\n",
    " 'netPmtPaidRecvOtherOrdersUsd',\n",
    " 'netPmtPaidRecvOtherOrdersCph',\n",
    " 'materialAspects']"
   ]
  },
  {
   "cell_type": "code",
   "execution_count": null,
   "metadata": {},
   "outputs": [],
   "source": [
    "datarows = []\n",
    "def readXMLToList(root,datarows):\n",
    "    for monthly in root.findall(\"rMonthly\"):\n",
    "        for venue in monthly.find(\"rSP500/rVenues\"):\n",
    "            this_row= []\n",
    "            this_row.append(int(monthly.find(\"year\").text+monthly.find('mon').text))\n",
    "            this_row.append(\"SP500\")\n",
    "            for field in venue:\n",
    "                if field.tag==\"materialAspects\":\n",
    "                    pass\n",
    "                elif field.tag==\"name\":\n",
    "                    this_row.append(field.text)\n",
    "                else:\n",
    "                    this_row.append(float(field.text))\n",
    "            datarows.append(this_row)\n",
    "        for venue in monthly.find(\"rOtherStocks/rVenues\"):\n",
    "            this_row= []\n",
    "            this_row.append(int(monthly.find(\"year\").text+monthly.find('mon').text))\n",
    "            this_row.append(\"OtherStocks\")\n",
    "            for field in venue:\n",
    "                if field.tag==\"materialAspects\":\n",
    "                    pass\n",
    "                elif field.tag==\"name\":\n",
    "                    this_row.append(field.text)\n",
    "                else:\n",
    "                    this_row.append(float(field.text))\n",
    "            datarows.append(this_row)\n",
    "        for venue in monthly.find(\"rOptions/rVenues\"):\n",
    "            this_row= []\n",
    "            this_row.append(int(monthly.find(\"year\").text+monthly.find('mon').text))\n",
    "            this_row.append(\"Options\")\n",
    "            for field in venue:\n",
    "                if field.tag==\"materialAspects\":\n",
    "                    pass\n",
    "                elif field.tag==\"name\":\n",
    "                    this_row.append(field.text)\n",
    "                else:\n",
    "                    this_row.append(float(field.text))\n",
    "            datarows.append(this_row)"
   ]
  },
  {
   "cell_type": "code",
   "execution_count": null,
   "metadata": {},
   "outputs": [],
   "source": []
  }
 ],
 "metadata": {
  "kernelspec": {
   "display_name": "py38",
   "language": "python",
   "name": "python3"
  },
  "language_info": {
   "codemirror_mode": {
    "name": "ipython",
    "version": 3
   },
   "file_extension": ".py",
   "mimetype": "text/x-python",
   "name": "python",
   "nbconvert_exporter": "python",
   "pygments_lexer": "ipython3",
   "version": "3.8.17"
  },
  "orig_nbformat": 4
 },
 "nbformat": 4,
 "nbformat_minor": 2
}
