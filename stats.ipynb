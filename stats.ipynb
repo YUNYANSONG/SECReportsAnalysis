{
 "cells": [
  {
   "cell_type": "code",
   "execution_count": 1,
   "metadata": {},
   "outputs": [],
   "source": [
    "import pandas as pd\n",
    "import numpy as np"
   ]
  },
  {
   "cell_type": "code",
   "execution_count": 3,
   "metadata": {},
   "outputs": [],
   "source": [
    "#gts = pd.read_csv('./GTSM_2023_06.txt',sep='|',header=None)\n",
    "citadelSec = pd.read_csv(\"./downloaded_reports/CitadelSec//June-2023_TCDRG-202306.txt\",sep='|',header=None)"
   ]
  },
  {
   "cell_type": "code",
   "execution_count": 4,
   "metadata": {},
   "outputs": [],
   "source": [
    "# F1: Designated Participant Code\tF10: Market Center Executed Shares\tF19: Price-Improved Shares\n",
    "# F2: Market Center Code\tF11: Away Executed Shares\tF20: Price Improved Average Amount ($)\n",
    "# F3: Date\tF12: Shares from 0 to 9 Seconds\tF21: Price Improved Average Time (seconds)\n",
    "# F4: Security Ticker Symbol\tF13: Shares from 10 to 29 Seconds\tF22: At-the Quote Shares\n",
    "# F5: Order Type Code\tF14: Shares from 30 to 59 Seconds\tF23: At-the-Quote Average Time (seconds)\n",
    "# F6: Order Size Code\tF15: Shares from 60 to 299 Seconds\tF24: Outside-the-Quote Shares\n",
    "# F7: Total Covered Orders\tF16: Shares from 5 to 30 Minutes\tF25: Outside-the-Quote Average Amount ($)\n",
    "# F8: Total Covered Shares\tF17: Average Realized Spread ($)\tF26: Outside-the-Quote Average Time (seconds)\n",
    "# F9: Cancelled Shares\tF18: Average Effective Spread ($)"
   ]
  },
  {
   "cell_type": "code",
   "execution_count": 4,
   "metadata": {},
   "outputs": [],
   "source": [
    "columnsName = [\"DP\",\"MC\",'Date',\"ukey\",\"OrderType\",\"OrderSize\",\"TotalOrders\",\"TotalShares\",\"CancelledShares\",\"MCExecutedShares\",\"AwayExecutedShares\",\"SharesT1\",\"SharesT2\",\"SharesT3\",\"SharesT4\",\"SharesT5\",\"ARSpread\",\"AESpread\",\"PIShares\",\"PIAAmount\",\"PIATimes\",\"AQShares\",\"AQATime\",\"OQShares\",\"OQAAmount\",\"OQATime\"]"
   ]
  },
  {
   "cell_type": "code",
   "execution_count": 5,
   "metadata": {},
   "outputs": [],
   "source": [
    "\n",
    "citadelSec.columns = columnsName"
   ]
  },
  {
   "cell_type": "code",
   "execution_count": 6,
   "metadata": {},
   "outputs": [
    {
     "data": {
      "text/plain": [
       "ukey\n",
       "A        3305600\n",
       "AA      12180611\n",
       "AAA         3536\n",
       "AAAU    23265944\n",
       "AAC      3818614\n",
       "          ...   \n",
       "ZVSA     8577680\n",
       "ZWS      1538069\n",
       "ZYME     1006626\n",
       "ZYNE     1356374\n",
       "ZYXI     1939068\n",
       "Name: TotalShares, Length: 11356, dtype: int64"
      ]
     },
     "execution_count": 6,
     "metadata": {},
     "output_type": "execute_result"
    }
   ],
   "source": [
    "citadelSec.groupby(\"ukey\")[\"TotalShares\"].sum()"
   ]
  },
  {
   "cell_type": "code",
   "execution_count": 9,
   "metadata": {},
   "outputs": [
    {
     "data": {
      "text/plain": [
       "array([21, 22, 23, 24], dtype=int64)"
      ]
     },
     "execution_count": 9,
     "metadata": {},
     "output_type": "execute_result"
    }
   ],
   "source": [
    "citadelSec[\"OrderSize\"].unique()"
   ]
  },
  {
   "cell_type": "code",
   "execution_count": 19,
   "metadata": {},
   "outputs": [
    {
     "data": {
      "text/plain": [
       "ukey       \n",
       "A     0        0.0\n",
       "      1        0.0\n",
       "AA    2        0.0\n",
       "      3        0.0\n",
       "      4        0.0\n",
       "              ... \n",
       "ZYME  16056    0.0\n",
       "      16057    0.0\n",
       "      16058    0.0\n",
       "ZYXI  16059    0.0\n",
       "      16060    0.0\n",
       "Length: 16060, dtype: float64"
      ]
     },
     "execution_count": 19,
     "metadata": {},
     "output_type": "execute_result"
    }
   ],
   "source": [
    "gts.groupby(\"ukey\").apply(lambda x: x[\"AwayExecutedShares\"]/x[\"MCExecutedShares\"])"
   ]
  },
  {
   "cell_type": "code",
   "execution_count": 20,
   "metadata": {},
   "outputs": [
    {
     "data": {
      "text/plain": [
       "ukey        \n",
       "A     0         0.0\n",
       "      1         0.0\n",
       "      2         0.0\n",
       "      3         0.0\n",
       "      4         0.0\n",
       "               ... \n",
       "ZYXI  147892    0.0\n",
       "      147893    0.0\n",
       "      147894    NaN\n",
       "      147895    NaN\n",
       "      147896    0.0\n",
       "Length: 147897, dtype: float64"
      ]
     },
     "execution_count": 20,
     "metadata": {},
     "output_type": "execute_result"
    }
   ],
   "source": [
    "citadelSec.groupby(\"ukey\").apply(lambda x: x[\"AwayExecutedShares\"]/x[\"MCExecutedShares\"])"
   ]
  },
  {
   "cell_type": "code",
   "execution_count": 2,
   "metadata": {},
   "outputs": [
    {
     "data": {
      "text/html": [
       "<div>\n",
       "<style scoped>\n",
       "    .dataframe tbody tr th:only-of-type {\n",
       "        vertical-align: middle;\n",
       "    }\n",
       "\n",
       "    .dataframe tbody tr th {\n",
       "        vertical-align: top;\n",
       "    }\n",
       "\n",
       "    .dataframe thead th {\n",
       "        text-align: right;\n",
       "    }\n",
       "</style>\n",
       "<table border=\"1\" class=\"dataframe\">\n",
       "  <thead>\n",
       "    <tr style=\"text-align: right;\">\n",
       "      <th></th>\n",
       "      <th>version</th>\n",
       "      <th>bd</th>\n",
       "      <th>year</th>\n",
       "      <th>qtr</th>\n",
       "      <th>timestamp</th>\n",
       "      <th>mon</th>\n",
       "      <th>rSP500</th>\n",
       "      <th>rOtherStocks</th>\n",
       "      <th>rOptions</th>\n",
       "    </tr>\n",
       "  </thead>\n",
       "  <tbody>\n",
       "    <tr>\n",
       "      <th>0</th>\n",
       "      <td>1.2</td>\n",
       "      <td>None</td>\n",
       "      <td>NaN</td>\n",
       "      <td>NaN</td>\n",
       "      <td>None</td>\n",
       "      <td>NaN</td>\n",
       "      <td>NaN</td>\n",
       "      <td>NaN</td>\n",
       "      <td>NaN</td>\n",
       "    </tr>\n",
       "    <tr>\n",
       "      <th>1</th>\n",
       "      <td>NaN</td>\n",
       "      <td>FIDELITY BROKERAGE SERVICES LLC</td>\n",
       "      <td>NaN</td>\n",
       "      <td>NaN</td>\n",
       "      <td>None</td>\n",
       "      <td>NaN</td>\n",
       "      <td>NaN</td>\n",
       "      <td>NaN</td>\n",
       "      <td>NaN</td>\n",
       "    </tr>\n",
       "    <tr>\n",
       "      <th>2</th>\n",
       "      <td>NaN</td>\n",
       "      <td>None</td>\n",
       "      <td>2023.0</td>\n",
       "      <td>NaN</td>\n",
       "      <td>None</td>\n",
       "      <td>NaN</td>\n",
       "      <td>NaN</td>\n",
       "      <td>NaN</td>\n",
       "      <td>NaN</td>\n",
       "    </tr>\n",
       "    <tr>\n",
       "      <th>3</th>\n",
       "      <td>NaN</td>\n",
       "      <td>None</td>\n",
       "      <td>NaN</td>\n",
       "      <td>2.0</td>\n",
       "      <td>None</td>\n",
       "      <td>NaN</td>\n",
       "      <td>NaN</td>\n",
       "      <td>NaN</td>\n",
       "      <td>NaN</td>\n",
       "    </tr>\n",
       "    <tr>\n",
       "      <th>4</th>\n",
       "      <td>NaN</td>\n",
       "      <td>None</td>\n",
       "      <td>NaN</td>\n",
       "      <td>NaN</td>\n",
       "      <td>2023-07-21T14:37:42Z</td>\n",
       "      <td>NaN</td>\n",
       "      <td>NaN</td>\n",
       "      <td>NaN</td>\n",
       "      <td>NaN</td>\n",
       "    </tr>\n",
       "    <tr>\n",
       "      <th>5</th>\n",
       "      <td>NaN</td>\n",
       "      <td>None</td>\n",
       "      <td>2023.0</td>\n",
       "      <td>NaN</td>\n",
       "      <td>None</td>\n",
       "      <td>4.0</td>\n",
       "      <td>NaN</td>\n",
       "      <td>NaN</td>\n",
       "      <td>NaN</td>\n",
       "    </tr>\n",
       "    <tr>\n",
       "      <th>6</th>\n",
       "      <td>NaN</td>\n",
       "      <td>None</td>\n",
       "      <td>2023.0</td>\n",
       "      <td>NaN</td>\n",
       "      <td>None</td>\n",
       "      <td>5.0</td>\n",
       "      <td>NaN</td>\n",
       "      <td>NaN</td>\n",
       "      <td>NaN</td>\n",
       "    </tr>\n",
       "    <tr>\n",
       "      <th>7</th>\n",
       "      <td>NaN</td>\n",
       "      <td>None</td>\n",
       "      <td>2023.0</td>\n",
       "      <td>NaN</td>\n",
       "      <td>None</td>\n",
       "      <td>6.0</td>\n",
       "      <td>NaN</td>\n",
       "      <td>NaN</td>\n",
       "      <td>NaN</td>\n",
       "    </tr>\n",
       "  </tbody>\n",
       "</table>\n",
       "</div>"
      ],
      "text/plain": [
       "   version                               bd    year  qtr   \n",
       "0      1.2                             None     NaN  NaN  \\\n",
       "1      NaN  FIDELITY BROKERAGE SERVICES LLC     NaN  NaN   \n",
       "2      NaN                             None  2023.0  NaN   \n",
       "3      NaN                             None     NaN  2.0   \n",
       "4      NaN                             None     NaN  NaN   \n",
       "5      NaN                             None  2023.0  NaN   \n",
       "6      NaN                             None  2023.0  NaN   \n",
       "7      NaN                             None  2023.0  NaN   \n",
       "\n",
       "              timestamp  mon  rSP500  rOtherStocks  rOptions  \n",
       "0                  None  NaN     NaN           NaN       NaN  \n",
       "1                  None  NaN     NaN           NaN       NaN  \n",
       "2                  None  NaN     NaN           NaN       NaN  \n",
       "3                  None  NaN     NaN           NaN       NaN  \n",
       "4  2023-07-21T14:37:42Z  NaN     NaN           NaN       NaN  \n",
       "5                  None  4.0     NaN           NaN       NaN  \n",
       "6                  None  5.0     NaN           NaN       NaN  \n",
       "7                  None  6.0     NaN           NaN       NaN  "
      ]
     },
     "execution_count": 2,
     "metadata": {},
     "output_type": "execute_result"
    }
   ],
   "source": []
  },
  {
   "cell_type": "code",
   "execution_count": null,
   "metadata": {},
   "outputs": [],
   "source": []
  }
 ],
 "metadata": {
  "kernelspec": {
   "display_name": "py39",
   "language": "python",
   "name": "python3"
  },
  "language_info": {
   "codemirror_mode": {
    "name": "ipython",
    "version": 3
   },
   "file_extension": ".py",
   "mimetype": "text/x-python",
   "name": "python",
   "nbconvert_exporter": "python",
   "pygments_lexer": "ipython3",
   "version": "3.8.17"
  },
  "orig_nbformat": 4
 },
 "nbformat": 4,
 "nbformat_minor": 2
}
